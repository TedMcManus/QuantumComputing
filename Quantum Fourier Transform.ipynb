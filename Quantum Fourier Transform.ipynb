{
 "cells": [
  {
   "cell_type": "code",
   "execution_count": 1,
   "metadata": {},
   "outputs": [
    {
     "name": "stdout",
     "output_type": "stream",
     "text": [
      "Imports Complete\n"
     ]
    }
   ],
   "source": [
    "import numpy as np\n",
    "from numpy import pi\n",
    "from qiskit import QuantumCircuit, transpile, assemble, Aer, IBMQ\n",
    "from qiskit.visualization import plot_histogram, plot_bloch_multivector\n",
    "print(\"Imports Complete\")"
   ]
  },
  {
   "cell_type": "code",
   "execution_count": 2,
   "metadata": {},
   "outputs": [],
   "source": [
    "def QFTrot(circuit, n):\n",
    "    #Does the rotations needed for the quantum fourier transform \\\n",
    "    #For a given qubit, there's a controlled rotation by pi/2 to the qubit above, then pi/4 two up, then pi/8 3 up, and so on\n",
    "    \n",
    "    if n == 0: #Base case for recursion, end the algorithm\n",
    "        return circuit\n",
    "    \n",
    "    n -= 1 #start on qubit n-1 (because of python list indexing)\n",
    "    \n",
    "    circuit.h(n) #Apply the Hadamard\n",
    "    for qubit in range(n):\n",
    "        \n",
    "        #Apply a controlled rotation by pi/2*(difference in numbers between the qubits), as described above\n",
    "        #These rotations are the coefficients in the expanded Fourier transform equation\n",
    "        circuit.cp(pi/2**(n-qubit), qubit, n) \n",
    "        \n",
    "    QFTrot(circuit, n)   #Recur!    "
   ]
  },
  {
   "cell_type": "code",
   "execution_count": 3,
   "metadata": {},
   "outputs": [],
   "source": [
    "def swapgates(circuit, n):\n",
    "    #Performs the swap operations at the end of the QFT\n",
    "    for qubit in range(n//2):\n",
    "        #Swaps the ith qubit with with the (n-1)-ith qubit\n",
    "        circuit.swap(qubit, n-qubit-1)\n",
    "    return circuit"
   ]
  },
  {
   "cell_type": "code",
   "execution_count": 4,
   "metadata": {},
   "outputs": [],
   "source": [
    "def qft(circuit, n):\n",
    "    \"\"\"QFT on the first n qubits in circuit\"\"\"\n",
    "    QFTrot(circuit, n)\n",
    "    swapgates(circuit, n)\n",
    "    return circuit"
   ]
  },
  {
   "cell_type": "code",
   "execution_count": 5,
   "metadata": {},
   "outputs": [
    {
     "ename": "NameError",
     "evalue": "name 'qft_rotations' is not defined",
     "output_type": "error",
     "traceback": [
      "\u001b[0;31m---------------------------------------------------------------------------\u001b[0m",
      "\u001b[0;31mNameError\u001b[0m                                 Traceback (most recent call last)",
      "\u001b[0;32m<ipython-input-5-55d2b301e328>\u001b[0m in \u001b[0;36m<module>\u001b[0;34m\u001b[0m\n\u001b[1;32m      5\u001b[0m \u001b[0;34m\u001b[0m\u001b[0m\n\u001b[1;32m      6\u001b[0m \u001b[0;31m#Perform the QFT and draw the circuit\u001b[0m\u001b[0;34m\u001b[0m\u001b[0;34m\u001b[0m\u001b[0;34m\u001b[0m\u001b[0m\n\u001b[0;32m----> 7\u001b[0;31m \u001b[0mqft\u001b[0m\u001b[0;34m(\u001b[0m\u001b[0mqc\u001b[0m\u001b[0;34m,\u001b[0m\u001b[0mnum_qubits\u001b[0m\u001b[0;34m)\u001b[0m\u001b[0;34m;\u001b[0m\u001b[0;34m\u001b[0m\u001b[0;34m\u001b[0m\u001b[0m\n\u001b[0m\u001b[1;32m      8\u001b[0m \u001b[0mqc\u001b[0m\u001b[0;34m.\u001b[0m\u001b[0mdraw\u001b[0m\u001b[0;34m(\u001b[0m\u001b[0;34m'mpl'\u001b[0m\u001b[0;34m)\u001b[0m\u001b[0;34m\u001b[0m\u001b[0;34m\u001b[0m\u001b[0m\n",
      "\u001b[0;32m<ipython-input-4-f0bedbccb962>\u001b[0m in \u001b[0;36mqft\u001b[0;34m(circuit, n)\u001b[0m\n\u001b[1;32m      1\u001b[0m \u001b[0;32mdef\u001b[0m \u001b[0mqft\u001b[0m\u001b[0;34m(\u001b[0m\u001b[0mcircuit\u001b[0m\u001b[0;34m,\u001b[0m \u001b[0mn\u001b[0m\u001b[0;34m)\u001b[0m\u001b[0;34m:\u001b[0m\u001b[0;34m\u001b[0m\u001b[0;34m\u001b[0m\u001b[0m\n\u001b[1;32m      2\u001b[0m     \u001b[0;34m\"\"\"QFT on the first n qubits in circuit\"\"\"\u001b[0m\u001b[0;34m\u001b[0m\u001b[0;34m\u001b[0m\u001b[0m\n\u001b[0;32m----> 3\u001b[0;31m     \u001b[0mQFTrot\u001b[0m\u001b[0;34m(\u001b[0m\u001b[0mcircuit\u001b[0m\u001b[0;34m,\u001b[0m \u001b[0mn\u001b[0m\u001b[0;34m)\u001b[0m\u001b[0;34m\u001b[0m\u001b[0;34m\u001b[0m\u001b[0m\n\u001b[0m\u001b[1;32m      4\u001b[0m     \u001b[0mswapgates\u001b[0m\u001b[0;34m(\u001b[0m\u001b[0mcircuit\u001b[0m\u001b[0;34m,\u001b[0m \u001b[0mn\u001b[0m\u001b[0;34m)\u001b[0m\u001b[0;34m\u001b[0m\u001b[0;34m\u001b[0m\u001b[0m\n\u001b[1;32m      5\u001b[0m     \u001b[0;32mreturn\u001b[0m \u001b[0mcircuit\u001b[0m\u001b[0;34m\u001b[0m\u001b[0;34m\u001b[0m\u001b[0m\n",
      "\u001b[0;32m<ipython-input-2-cb718f6c6c4b>\u001b[0m in \u001b[0;36mQFTrot\u001b[0;34m(circuit, n)\u001b[0m\n\u001b[1;32m     15\u001b[0m         \u001b[0mcircuit\u001b[0m\u001b[0;34m.\u001b[0m\u001b[0mcp\u001b[0m\u001b[0;34m(\u001b[0m\u001b[0mpi\u001b[0m\u001b[0;34m/\u001b[0m\u001b[0;36m2\u001b[0m\u001b[0;34m**\u001b[0m\u001b[0;34m(\u001b[0m\u001b[0mn\u001b[0m\u001b[0;34m-\u001b[0m\u001b[0mqubit\u001b[0m\u001b[0;34m)\u001b[0m\u001b[0;34m,\u001b[0m \u001b[0mqubit\u001b[0m\u001b[0;34m,\u001b[0m \u001b[0mn\u001b[0m\u001b[0;34m)\u001b[0m\u001b[0;34m\u001b[0m\u001b[0;34m\u001b[0m\u001b[0m\n\u001b[1;32m     16\u001b[0m \u001b[0;34m\u001b[0m\u001b[0m\n\u001b[0;32m---> 17\u001b[0;31m     \u001b[0mqft_rotations\u001b[0m\u001b[0;34m(\u001b[0m\u001b[0mcircuit\u001b[0m\u001b[0;34m,\u001b[0m \u001b[0mn\u001b[0m\u001b[0;34m)\u001b[0m   \u001b[0;31m#Recur!\u001b[0m\u001b[0;34m\u001b[0m\u001b[0;34m\u001b[0m\u001b[0m\n\u001b[0m",
      "\u001b[0;31mNameError\u001b[0m: name 'qft_rotations' is not defined"
     ]
    }
   ],
   "source": [
    "#Example of a 5-qubit Fourier transform\n",
    "num_qubits=5; #Define the number of qubits in the transform \n",
    "#With 5 bits we get 2^5 values we can represent in binary\n",
    "qc = QuantumCircuit(num_qubits)\n",
    "\n",
    "#Perform the QFT and draw the circuit\n",
    "qft(qc,num_qubits); \n",
    "qc.draw('mpl')\n"
   ]
  },
  {
   "cell_type": "code",
   "execution_count": null,
   "metadata": {},
   "outputs": [],
   "source": [
    "#Show the outcome of the circuit\n",
    "#We see that each qubit is in the 0-state in the Fourier basis, as expected\n",
    "\n",
    "sv_sim = Aer.get_backend(\"statevector_simulator\")\n",
    "qobj = assemble(qc)\n",
    "statevector = sv_sim.run(qobj).result().get_statevector()\n",
    "plot_bloch_multivector(statevector)"
   ]
  },
  {
   "cell_type": "code",
   "execution_count": null,
   "metadata": {},
   "outputs": [],
   "source": [
    "#Now try to approximate a number. Get the value of 23 in binary\n",
    "bin(3)"
   ]
  },
  {
   "cell_type": "code",
   "execution_count": null,
   "metadata": {},
   "outputs": [],
   "source": [
    "num_qubits=2; #Define the number of qubits in the transform \n",
    "qc2 = QuantumCircuit(num_qubits)\n",
    "\n",
    "#Perform the QFT and draw the circuit\n",
    "qc2.x(0)\n",
    "qc2.x(1)\n",
    "qft(qc2,num_qubits); \n",
    "qc2.draw('mpl')\n"
   ]
  },
  {
   "cell_type": "code",
   "execution_count": null,
   "metadata": {},
   "outputs": [],
   "source": [
    "#Show the outcome of the circuit\n",
    "#The first qubit is rotated by 3/4 turns, and the second by 6/4 = 1/3 turns. This is what we expect!\n",
    "sv_sim = Aer.get_backend(\"statevector_simulator\")\n",
    "qobj = assemble(qc2)\n",
    "statevector = sv_sim.run(qobj).result().get_statevector()\n",
    "plot_bloch_multivector(statevector)"
   ]
  },
  {
   "cell_type": "code",
   "execution_count": null,
   "metadata": {},
   "outputs": [],
   "source": [
    "#Something a little more ambitious - let's try representing something on 5 qubits\n",
    "#We'll choose the easiest one, which is 16\n",
    "bin(16)"
   ]
  },
  {
   "cell_type": "code",
   "execution_count": null,
   "metadata": {},
   "outputs": [],
   "source": [
    "num_qubits=5; #Define the number of qubits in the transform \n",
    "qc2 = QuantumCircuit(num_qubits)\n",
    "\n",
    "#Perform the QFT and draw the circuit\n",
    "qc2.x(0)\n",
    "qft(qc2,num_qubits); \n",
    "qc2.draw('mpl')"
   ]
  },
  {
   "cell_type": "code",
   "execution_count": null,
   "metadata": {},
   "outputs": [],
   "source": [
    "#Show the outcome of the circuit\n",
    "#The first qubit is rotated by 1/32, the second by 1/16, the third by 1/8, the fourth by 1/4, and the fifth by 1/2\n",
    "#This is what we expect! Our QFT is robust and scalable\n",
    "sv_sim = Aer.get_backend(\"statevector_simulator\")\n",
    "qobj = assemble(qc2)\n",
    "statevector = sv_sim.run(qobj).result().get_statevector()\n",
    "plot_bloch_multivector(statevector)"
   ]
  },
  {
   "cell_type": "code",
   "execution_count": null,
   "metadata": {},
   "outputs": [],
   "source": []
  }
 ],
 "metadata": {
  "kernelspec": {
   "display_name": "Python 3",
   "language": "python",
   "name": "python3"
  },
  "language_info": {
   "codemirror_mode": {
    "name": "ipython",
    "version": 3
   },
   "file_extension": ".py",
   "mimetype": "text/x-python",
   "name": "python",
   "nbconvert_exporter": "python",
   "pygments_lexer": "ipython3",
   "version": "3.7.7"
  }
 },
 "nbformat": 4,
 "nbformat_minor": 4
}
